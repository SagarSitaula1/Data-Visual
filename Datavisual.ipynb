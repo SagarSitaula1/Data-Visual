{
  "nbformat": 4,
  "nbformat_minor": 0,
  "metadata": {
    "colab": {
      "name": "Untitled3.ipynb",
      "provenance": [],
      "include_colab_link": true
    },
    "kernelspec": {
      "name": "python3",
      "display_name": "Python 3"
    },
    "language_info": {
      "name": "python"
    }
  },
  "cells": [
    {
      "cell_type": "markdown",
      "metadata": {
        "id": "view-in-github",
        "colab_type": "text"
      },
      "source": [
        "<a href=\"https://colab.research.google.com/github/SagarSitaula1/Data-Visual/blob/main/Datavisual.ipynb\" target=\"_parent\"><img src=\"https://colab.research.google.com/assets/colab-badge.svg\" alt=\"Open In Colab\"/></a>"
      ]
    },
    {
      "cell_type": "markdown",
      "source": [
        "# Data and Visualization\n",
        "\n",
        "Sagar Sitaula"
      ],
      "metadata": {
        "id": "ZgOM2NlZBfsb"
      }
    },
    {
      "cell_type": "markdown",
      "source": [
        "First I am going to load some libraries which are built in python."
      ],
      "metadata": {
        "id": "t33Hidg8Bs9E"
      }
    },
    {
      "cell_type": "code",
      "source": [
        "import numpy as np #a matrix like package for handling data\n",
        "import pandas as pd #a R like package for handling data\n",
        "from scipy import stats #a way to just get a piece of a large package\n",
        "import matplotlib.pyplot as plt\n",
        "import seaborn as sns"
      ],
      "metadata": {
        "id": "hohy3A3ABnGf"
      },
      "execution_count": 4,
      "outputs": []
    },
    {
      "cell_type": "markdown",
      "source": [
        "After, loading the libraries, I will be pulling a dataset from the web for my visualization."
      ],
      "metadata": {
        "id": "TzrPbIP5B-8Q"
      }
    },
    {
      "cell_type": "code",
      "source": [
        "df= pd.read_csv('https://raw.githubusercontent.com/nurfnick/Data_Viz/main/iris.csv')"
      ],
      "metadata": {
        "id": "Xo8X_ZfYCKCM"
      },
      "execution_count": 5,
      "outputs": []
    },
    {
      "cell_type": "code",
      "source": [
        ""
      ],
      "metadata": {
        "id": "szKnjV7uB-MJ"
      },
      "execution_count": 5,
      "outputs": []
    }
  ]
}