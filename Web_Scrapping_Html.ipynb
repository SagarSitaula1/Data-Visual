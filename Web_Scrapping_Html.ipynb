{
  "nbformat": 4,
  "nbformat_minor": 0,
  "metadata": {
    "colab": {
      "name": "Web_Scrapping_Html.ipynb",
      "provenance": [],
      "authorship_tag": "ABX9TyOs3IcQmKFJAVDYEcDguARS",
      "include_colab_link": true
    },
    "kernelspec": {
      "name": "python3",
      "display_name": "Python 3"
    },
    "language_info": {
      "name": "python"
    }
  },
  "cells": [
    {
      "cell_type": "markdown",
      "metadata": {
        "id": "view-in-github",
        "colab_type": "text"
      },
      "source": [
        "<a href=\"https://colab.research.google.com/github/SagarSitaula1/Data-Visual/blob/main/Web_Scrapping_Html.ipynb\" target=\"_parent\"><img src=\"https://colab.research.google.com/assets/colab-badge.svg\" alt=\"Open In Colab\"/></a>"
      ]
    },
    {
      "cell_type": "markdown",
      "source": [
        "In this part, I am going to use different techniques of webScrapping using Html."
      ],
      "metadata": {
        "id": "LpRbpyLvGnPF"
      }
    },
    {
      "cell_type": "code",
      "source": [
        "import requests\n",
        "import pandas as pa\n",
        "from bs4 import BeautifulSoup\n"
      ],
      "metadata": {
        "id": "EZim5ivhGy58"
      },
      "execution_count": 1,
      "outputs": []
    },
    {
      "cell_type": "markdown",
      "source": [
        "I am going to use a wikipedia page of one piece, which is my favourite anime television series.\n",
        "\n",
        "https://en.wikipedia.org/wiki/One_Piece"
      ],
      "metadata": {
        "id": "c3oUgYuYG9pm"
      }
    },
    {
      "cell_type": "code",
      "source": [
        "r = requests.get('https://en.wikipedia.org/wiki/One_Piece')\n",
        "html_contents = r.text\n",
        "html_soup = BeautifulSoup(html_contents,'lxml')\n",
        "#html_soup"
      ],
      "metadata": {
        "id": "SC-76_u8HQRW"
      },
      "execution_count": 2,
      "outputs": []
    },
    {
      "cell_type": "markdown",
      "source": [
        "Now, lets examine some data from the website."
      ],
      "metadata": {
        "id": "WsuDNZhuH5lM"
      }
    },
    {
      "cell_type": "code",
      "source": [
        "html_soup.title"
      ],
      "metadata": {
        "colab": {
          "base_uri": "https://localhost:8080/"
        },
        "id": "ACvx4o-OH-yg",
        "outputId": "f4c2fb65-3b31-4cdc-f865-bb4111fe7843"
      },
      "execution_count": 3,
      "outputs": [
        {
          "output_type": "execute_result",
          "data": {
            "text/plain": [
              "<title>One Piece - Wikipedia</title>"
            ]
          },
          "metadata": {},
          "execution_count": 3
        }
      ]
    },
    {
      "cell_type": "markdown",
      "source": [
        "Now, lets look at my table."
      ],
      "metadata": {
        "id": "4aK6T-urIoNz"
      }
    },
    {
      "cell_type": "code",
      "source": [
        "html_soup.table"
      ],
      "metadata": {
        "colab": {
          "base_uri": "https://localhost:8080/"
        },
        "id": "pqj8hX1DInCS",
        "outputId": "cfbd67ab-8657-4ef3-efcd-b89a8786f7d4"
      },
      "execution_count": 4,
      "outputs": [
        {
          "output_type": "execute_result",
          "data": {
            "text/plain": [
              "<table class=\"infobox\" style=\"width: 22em\"><style data-mw-deduplicate=\"TemplateStyles:r1066479718\">.mw-parser-output .infobox-subbox{padding:0;border:none;margin:-3px;width:auto;min-width:100%;font-size:100%;clear:none;float:none;background-color:transparent}.mw-parser-output .infobox-3cols-child{margin:auto}.mw-parser-output .infobox .navbar{font-size:100%}body.skin-minerva .mw-parser-output .infobox-header,body.skin-minerva .mw-parser-output .infobox-subheader,body.skin-minerva .mw-parser-output .infobox-above,body.skin-minerva .mw-parser-output .infobox-title,body.skin-minerva .mw-parser-output .infobox-image,body.skin-minerva .mw-parser-output .infobox-full-data,body.skin-minerva .mw-parser-output .infobox-below{text-align:center}</style><tbody><tr><td class=\"infobox-subheader\" colspan=\"2\" style=\"background:#CCF; font-size:125%; font-style:italic; font-weight:bold;\">One Piece</td></tr><tr><td class=\"infobox-image\" colspan=\"2\"><a class=\"image\" href=\"/wiki/File:One_Piece,_Volume_61_Cover_(Japanese).jpg\"><img alt=\"One Piece, Volume 61 Cover (Japanese).jpg\" data-file-height=\"388\" data-file-width=\"246\" decoding=\"async\" height=\"347\" src=\"//upload.wikimedia.org/wikipedia/en/thumb/9/90/One_Piece%2C_Volume_61_Cover_%28Japanese%29.jpg/220px-One_Piece%2C_Volume_61_Cover_%28Japanese%29.jpg\" srcset=\"//upload.wikimedia.org/wikipedia/en/9/90/One_Piece%2C_Volume_61_Cover_%28Japanese%29.jpg 1.5x\" width=\"220\"/></a><div class=\"infobox-caption\">Volume 61 <i><a href=\"/wiki/Tank%C5%8Dbon\" title=\"Tankōbon\">tankōbon</a></i> cover, featuring <a href=\"/wiki/Monkey_D._Luffy\" title=\"Monkey D. Luffy\">Monkey D. Luffy</a> (center) and the Straw Hat Pirates</div></td></tr><tr><th class=\"infobox-label\" scope=\"row\">Genre</th><td class=\"infobox-data\"><a href=\"/wiki/Adventure_fiction\" title=\"Adventure fiction\">Adventure</a>, <a href=\"/wiki/Fantasy\" title=\"Fantasy\">fantasy</a><sup class=\"reference\" id=\"cite_ref-1\"><a href=\"#cite_note-1\">[1]</a></sup></td></tr>\n",
              "<link href=\"mw-data:TemplateStyles:r1066479718\" rel=\"mw-deduplicated-inline-style\"/><tr><td class=\"infobox-subheader\" colspan=\"2\" style=\"background:#CCF; font-weight:bold;\">Manga</td></tr><tr><th class=\"infobox-label\" scope=\"row\">Written by</th><td class=\"infobox-data\"><a href=\"/wiki/Eiichiro_Oda\" title=\"Eiichiro Oda\">Eiichiro Oda</a></td></tr><tr><th class=\"infobox-label\" scope=\"row\">Published by</th><td class=\"infobox-data\"><a href=\"/wiki/Shueisha\" title=\"Shueisha\">Shueisha</a></td></tr><tr><th class=\"infobox-label\" scope=\"row\">English publisher</th><td class=\"infobox-data\"><div style=\"overflow:hidden; width:100%;\"><div style=\"width:1.5em; float:left;\"><sup style=\"font-style:normal;\"><a href=\"/wiki/Northern_America\" title=\"Northern America\">NA</a></sup></div> <div style=\"margin-left:1.5em;\"><a href=\"/wiki/Viz_Media\" title=\"Viz Media\">Viz Media</a></div></div></td></tr><tr><th class=\"infobox-label\" scope=\"row\">Imprint</th><td class=\"infobox-data\"><a class=\"mw-redirect\" href=\"/wiki/Jump_Comics\" title=\"Jump Comics\">Jump Comics</a></td></tr><tr><th class=\"infobox-label\" scope=\"row\">Magazine</th><td class=\"infobox-data\"><i><a href=\"/wiki/Weekly_Sh%C5%8Dnen_Jump\" title=\"Weekly Shōnen Jump\">Weekly Shōnen Jump</a></i></td></tr><tr><th class=\"infobox-label\" scope=\"row\">English magazine</th><td class=\"infobox-data\"><i><div style=\"overflow:hidden; width:100%;\"><div style=\"width:1.5em; float:left;\"><sup style=\"font-style:normal;\"><a href=\"/wiki/Northern_America\" title=\"Northern America\">NA</a></sup></div> <div style=\"margin-left:1.5em;\"><a href=\"/wiki/Weekly_Shonen_Jump_(American_magazine)\" title=\"Weekly Shonen Jump (American magazine)\">Weekly Shonen Jump</a></div></div></i></td></tr><tr><th class=\"infobox-label\" scope=\"row\">Demographic</th><td class=\"infobox-data\"><i><a href=\"/wiki/Sh%C5%8Dnen_manga\" title=\"Shōnen manga\">Shōnen</a></i></td></tr><tr><th class=\"infobox-label\" scope=\"row\">Original run</th><td class=\"infobox-data\"><span class=\"nowrap\">July 22, 1997</span> – present</td></tr><tr><th class=\"infobox-label\" scope=\"row\">Volumes</th><td class=\"infobox-data\">101 <span class=\"noprint\">(<a href=\"/wiki/List_of_One_Piece_manga_volumes\" title=\"List of One Piece manga volumes\">List of volumes</a>)</span></td></tr>\n",
              "<link href=\"mw-data:TemplateStyles:r1066479718\" rel=\"mw-deduplicated-inline-style\"/><tr><td class=\"infobox-subheader\" colspan=\"2\" style=\"background:#CCF; font-weight: bold;\">Anime television series</td></tr><tr><td class=\"infobox-full-data\" colspan=\"2\" style=\"background:#EEF; text-align:left;\">\n",
              "<ul><li><a href=\"/wiki/One_Piece_(TV_series)\" title=\"One Piece (TV series)\"><i>One Piece</i></a> (1999–present)</li></ul>\n",
              "</td></tr>\n",
              "<link href=\"mw-data:TemplateStyles:r1066479718\" rel=\"mw-deduplicated-inline-style\"/><tr><td class=\"infobox-subheader\" colspan=\"2\" style=\"background:#CCF; font-weight: bold;\">Media franchise</td></tr><tr><td class=\"infobox-full-data\" colspan=\"2\" style=\"background:#EEF; text-align:left;\">\n",
              "<ul><li><a href=\"/wiki/List_of_One_Piece_media\" title=\"List of One Piece media\">List of <i>One Piece</i> media</a>\n",
              "<ul><li><a href=\"/wiki/List_of_One_Piece_films\" title=\"List of One Piece films\">List of <i>One Piece</i> films</a></li>\n",
              "<li><a href=\"/wiki/List_of_One_Piece_video_games\" title=\"List of One Piece video games\">List of <i>One Piece</i> video games</a></li>\n",
              "<li><a href=\"/wiki/Music_of_One_Piece\" title=\"Music of One Piece\">Music of <i>One Piece</i></a></li></ul></li></ul>\n",
              "</td></tr><link href=\"mw-data:TemplateStyles:r1066479718\" rel=\"mw-deduplicated-inline-style\"/><tr class=\"noprint\"><td class=\"infobox-full-data\" colspan=\"2\" style=\"background:#CCF; font-weight:bold\"><a class=\"image\" href=\"/wiki/File:Wikipe-tan_face.svg\"><img alt=\"Wikipe-tan face.svg\" class=\"noviewer\" data-file-height=\"440\" data-file-width=\"440\" decoding=\"async\" height=\"16\" src=\"//upload.wikimedia.org/wikipedia/commons/thumb/d/da/Wikipe-tan_face.svg/16px-Wikipe-tan_face.svg.png\" srcset=\"//upload.wikimedia.org/wikipedia/commons/thumb/d/da/Wikipe-tan_face.svg/24px-Wikipe-tan_face.svg.png 1.5x, //upload.wikimedia.org/wikipedia/commons/thumb/d/da/Wikipe-tan_face.svg/32px-Wikipe-tan_face.svg.png 2x\" width=\"16\"/></a> <a href=\"/wiki/Portal:Anime_and_manga\" title=\"Portal:Anime and manga\">Anime and manga portal</a></td></tr></tbody></table>"
            ]
          },
          "metadata": {},
          "execution_count": 4
        }
      ]
    },
    {
      "cell_type": "code",
      "source": [
        "html_soup.table.a['href']"
      ],
      "metadata": {
        "colab": {
          "base_uri": "https://localhost:8080/",
          "height": 35
        },
        "id": "NEPPxm94Jib0",
        "outputId": "7f584f65-fd45-4949-bf57-e5d000f34f0b"
      },
      "execution_count": 5,
      "outputs": [
        {
          "output_type": "execute_result",
          "data": {
            "application/vnd.google.colaboratory.intrinsic+json": {
              "type": "string"
            },
            "text/plain": [
              "'/wiki/File:One_Piece,_Volume_61_Cover_(Japanese).jpg'"
            ]
          },
          "metadata": {},
          "execution_count": 5
        }
      ]
    },
    {
      "cell_type": "code",
      "source": [
        "html_soup.table.find_all('a')"
      ],
      "metadata": {
        "colab": {
          "base_uri": "https://localhost:8080/"
        },
        "id": "kz-OSKYWJs1Y",
        "outputId": "b9b438bf-3a1f-48fa-e57b-6d83e6efb377"
      },
      "execution_count": 6,
      "outputs": [
        {
          "output_type": "execute_result",
          "data": {
            "text/plain": [
              "[<a class=\"image\" href=\"/wiki/File:One_Piece,_Volume_61_Cover_(Japanese).jpg\"><img alt=\"One Piece, Volume 61 Cover (Japanese).jpg\" data-file-height=\"388\" data-file-width=\"246\" decoding=\"async\" height=\"347\" src=\"//upload.wikimedia.org/wikipedia/en/thumb/9/90/One_Piece%2C_Volume_61_Cover_%28Japanese%29.jpg/220px-One_Piece%2C_Volume_61_Cover_%28Japanese%29.jpg\" srcset=\"//upload.wikimedia.org/wikipedia/en/9/90/One_Piece%2C_Volume_61_Cover_%28Japanese%29.jpg 1.5x\" width=\"220\"/></a>,\n",
              " <a href=\"/wiki/Tank%C5%8Dbon\" title=\"Tankōbon\">tankōbon</a>,\n",
              " <a href=\"/wiki/Monkey_D._Luffy\" title=\"Monkey D. Luffy\">Monkey D. Luffy</a>,\n",
              " <a href=\"/wiki/Adventure_fiction\" title=\"Adventure fiction\">Adventure</a>,\n",
              " <a href=\"/wiki/Fantasy\" title=\"Fantasy\">fantasy</a>,\n",
              " <a href=\"#cite_note-1\">[1]</a>,\n",
              " <a href=\"/wiki/Eiichiro_Oda\" title=\"Eiichiro Oda\">Eiichiro Oda</a>,\n",
              " <a href=\"/wiki/Shueisha\" title=\"Shueisha\">Shueisha</a>,\n",
              " <a href=\"/wiki/Northern_America\" title=\"Northern America\">NA</a>,\n",
              " <a href=\"/wiki/Viz_Media\" title=\"Viz Media\">Viz Media</a>,\n",
              " <a class=\"mw-redirect\" href=\"/wiki/Jump_Comics\" title=\"Jump Comics\">Jump Comics</a>,\n",
              " <a href=\"/wiki/Weekly_Sh%C5%8Dnen_Jump\" title=\"Weekly Shōnen Jump\">Weekly Shōnen Jump</a>,\n",
              " <a href=\"/wiki/Northern_America\" title=\"Northern America\">NA</a>,\n",
              " <a href=\"/wiki/Weekly_Shonen_Jump_(American_magazine)\" title=\"Weekly Shonen Jump (American magazine)\">Weekly Shonen Jump</a>,\n",
              " <a href=\"/wiki/Sh%C5%8Dnen_manga\" title=\"Shōnen manga\">Shōnen</a>,\n",
              " <a href=\"/wiki/List_of_One_Piece_manga_volumes\" title=\"List of One Piece manga volumes\">List of volumes</a>,\n",
              " <a href=\"/wiki/One_Piece_(TV_series)\" title=\"One Piece (TV series)\"><i>One Piece</i></a>,\n",
              " <a href=\"/wiki/List_of_One_Piece_media\" title=\"List of One Piece media\">List of <i>One Piece</i> media</a>,\n",
              " <a href=\"/wiki/List_of_One_Piece_films\" title=\"List of One Piece films\">List of <i>One Piece</i> films</a>,\n",
              " <a href=\"/wiki/List_of_One_Piece_video_games\" title=\"List of One Piece video games\">List of <i>One Piece</i> video games</a>,\n",
              " <a href=\"/wiki/Music_of_One_Piece\" title=\"Music of One Piece\">Music of <i>One Piece</i></a>,\n",
              " <a class=\"image\" href=\"/wiki/File:Wikipe-tan_face.svg\"><img alt=\"Wikipe-tan face.svg\" class=\"noviewer\" data-file-height=\"440\" data-file-width=\"440\" decoding=\"async\" height=\"16\" src=\"//upload.wikimedia.org/wikipedia/commons/thumb/d/da/Wikipe-tan_face.svg/16px-Wikipe-tan_face.svg.png\" srcset=\"//upload.wikimedia.org/wikipedia/commons/thumb/d/da/Wikipe-tan_face.svg/24px-Wikipe-tan_face.svg.png 1.5x, //upload.wikimedia.org/wikipedia/commons/thumb/d/da/Wikipe-tan_face.svg/32px-Wikipe-tan_face.svg.png 2x\" width=\"16\"/></a>,\n",
              " <a href=\"/wiki/Portal:Anime_and_manga\" title=\"Portal:Anime and manga\">Anime and manga portal</a>]"
            ]
          },
          "metadata": {},
          "execution_count": 6
        }
      ]
    },
    {
      "cell_type": "markdown",
      "source": [
        "Now, lets retrieve all the links and store them in a list."
      ],
      "metadata": {
        "id": "T2BwHeLfKEHm"
      }
    },
    {
      "cell_type": "code",
      "source": [
        "links = html_soup.table.find_all('a')\n",
        "listOfURLS = []\n",
        "\n",
        "for link in links:\n",
        "  listOfURLS.append('https://en.wikipedia.org' + link['href'])\n",
        "\n",
        "listOfURLS"
      ],
      "metadata": {
        "colab": {
          "base_uri": "https://localhost:8080/"
        },
        "id": "nqFDPdvMJs7-",
        "outputId": "d75db390-f9b1-4163-da6b-5c279b553755"
      },
      "execution_count": 7,
      "outputs": [
        {
          "output_type": "execute_result",
          "data": {
            "text/plain": [
              "['https://en.wikipedia.org/wiki/File:One_Piece,_Volume_61_Cover_(Japanese).jpg',\n",
              " 'https://en.wikipedia.org/wiki/Tank%C5%8Dbon',\n",
              " 'https://en.wikipedia.org/wiki/Monkey_D._Luffy',\n",
              " 'https://en.wikipedia.org/wiki/Adventure_fiction',\n",
              " 'https://en.wikipedia.org/wiki/Fantasy',\n",
              " 'https://en.wikipedia.org#cite_note-1',\n",
              " 'https://en.wikipedia.org/wiki/Eiichiro_Oda',\n",
              " 'https://en.wikipedia.org/wiki/Shueisha',\n",
              " 'https://en.wikipedia.org/wiki/Northern_America',\n",
              " 'https://en.wikipedia.org/wiki/Viz_Media',\n",
              " 'https://en.wikipedia.org/wiki/Jump_Comics',\n",
              " 'https://en.wikipedia.org/wiki/Weekly_Sh%C5%8Dnen_Jump',\n",
              " 'https://en.wikipedia.org/wiki/Northern_America',\n",
              " 'https://en.wikipedia.org/wiki/Weekly_Shonen_Jump_(American_magazine)',\n",
              " 'https://en.wikipedia.org/wiki/Sh%C5%8Dnen_manga',\n",
              " 'https://en.wikipedia.org/wiki/List_of_One_Piece_manga_volumes',\n",
              " 'https://en.wikipedia.org/wiki/One_Piece_(TV_series)',\n",
              " 'https://en.wikipedia.org/wiki/List_of_One_Piece_media',\n",
              " 'https://en.wikipedia.org/wiki/List_of_One_Piece_films',\n",
              " 'https://en.wikipedia.org/wiki/List_of_One_Piece_video_games',\n",
              " 'https://en.wikipedia.org/wiki/Music_of_One_Piece',\n",
              " 'https://en.wikipedia.org/wiki/File:Wikipe-tan_face.svg',\n",
              " 'https://en.wikipedia.org/wiki/Portal:Anime_and_manga']"
            ]
          },
          "metadata": {},
          "execution_count": 7
        }
      ]
    }
  ]
}