{
  "nbformat": 4,
  "nbformat_minor": 0,
  "metadata": {
    "colab": {
      "name": "Untitled4.ipynb",
      "provenance": [],
      "authorship_tag": "ABX9TyMI9yaV+c3AmLtmAHt59+7u",
      "include_colab_link": true
    },
    "kernelspec": {
      "name": "python3",
      "display_name": "Python 3"
    },
    "language_info": {
      "name": "python"
    }
  },
  "cells": [
    {
      "cell_type": "markdown",
      "metadata": {
        "id": "view-in-github",
        "colab_type": "text"
      },
      "source": [
        "<a href=\"https://colab.research.google.com/github/SagarSitaula1/Data-Visual/blob/main/birthday_song.ipynb\" target=\"_parent\"><img src=\"https://colab.research.google.com/assets/colab-badge.svg\" alt=\"Open In Colab\"/></a>"
      ]
    },
    {
      "cell_type": "code",
      "execution_count": 9,
      "metadata": {
        "colab": {
          "base_uri": "https://localhost:8080/",
          "height": 35
        },
        "id": "iayTBCT1wgsn",
        "outputId": "9e86614b-323c-4dbe-d31a-eb524ef3ba49"
      },
      "outputs": [
        {
          "output_type": "execute_result",
          "data": {
            "application/vnd.google.colaboratory.intrinsic+json": {
              "type": "string"
            },
            "text/plain": [
              "'Happy Birthday to you. Happy Birthday to you. Happy Birthday Dear Sagar Sitaula Happy Birthday to you.'"
            ]
          },
          "metadata": {},
          "execution_count": 9
        }
      ],
      "source": [
        "birth = 'Happy Birthday to you.'\n",
        "name = 'Dear Sagar Sitaula '\n",
        "birth + \" \"+ birth+ \" \" + birth[:-8] + \" \" + name + birth"
      ]
    },
    {
      "cell_type": "markdown",
      "source": [
        "Here is the birthday song for me."
      ],
      "metadata": {
        "id": "JJ-2NPbaxg7u"
      }
    }
  ]
}