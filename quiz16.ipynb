{
  "nbformat": 4,
  "nbformat_minor": 0,
  "metadata": {
    "colab": {
      "name": "Untitled7.ipynb",
      "provenance": [],
      "authorship_tag": "ABX9TyOn4LMHVZbqORayQ48oLLeh",
      "include_colab_link": true
    },
    "kernelspec": {
      "name": "python3",
      "display_name": "Python 3"
    },
    "language_info": {
      "name": "python"
    }
  },
  "cells": [
    {
      "cell_type": "markdown",
      "metadata": {
        "id": "view-in-github",
        "colab_type": "text"
      },
      "source": [
        "<a href=\"https://colab.research.google.com/github/SagarSitaula1/Data-Visual/blob/main/quiz16.ipynb\" target=\"_parent\"><img src=\"https://colab.research.google.com/assets/colab-badge.svg\" alt=\"Open In Colab\"/></a>"
      ]
    },
    {
      "cell_type": "code",
      "execution_count": 1,
      "metadata": {
        "colab": {
          "base_uri": "https://localhost:8080/",
          "height": 270
        },
        "id": "kK4RDVdyzPHh",
        "outputId": "6f1725cf-57f0-4b13-d3d1-911b50e68703"
      },
      "outputs": [
        {
          "output_type": "execute_result",
          "data": {
            "text/html": [
              "\n",
              "  <div id=\"df-b7e35319-a9a0-49db-888c-e2f520431b38\">\n",
              "    <div class=\"colab-df-container\">\n",
              "      <div>\n",
              "<style scoped>\n",
              "    .dataframe tbody tr th:only-of-type {\n",
              "        vertical-align: middle;\n",
              "    }\n",
              "\n",
              "    .dataframe tbody tr th {\n",
              "        vertical-align: top;\n",
              "    }\n",
              "\n",
              "    .dataframe thead th {\n",
              "        text-align: right;\n",
              "    }\n",
              "</style>\n",
              "<table border=\"1\" class=\"dataframe\">\n",
              "  <thead>\n",
              "    <tr style=\"text-align: right;\">\n",
              "      <th></th>\n",
              "      <th>0</th>\n",
              "      <th>1</th>\n",
              "      <th>2</th>\n",
              "      <th>3</th>\n",
              "      <th>4</th>\n",
              "      <th>5</th>\n",
              "      <th>6</th>\n",
              "      <th>7</th>\n",
              "      <th>8</th>\n",
              "      <th>9</th>\n",
              "      <th>10</th>\n",
              "      <th>11</th>\n",
              "      <th>12</th>\n",
              "      <th>13</th>\n",
              "      <th>14</th>\n",
              "    </tr>\n",
              "  </thead>\n",
              "  <tbody>\n",
              "    <tr>\n",
              "      <th>id</th>\n",
              "      <td>__export__.temp_log_196134_bd201015</td>\n",
              "      <td>__export__.temp_log_196131_7bca51bc</td>\n",
              "      <td>__export__.temp_log_196127_522915e3</td>\n",
              "      <td>__export__.temp_log_196128_be0919cf</td>\n",
              "      <td>__export__.temp_log_196126_d30b72fb</td>\n",
              "      <td>__export__.temp_log_196125_b0fa0b41</td>\n",
              "      <td>__export__.temp_log_196121_01544d45</td>\n",
              "      <td>__export__.temp_log_196122_f8b80a9f</td>\n",
              "      <td>__export__.temp_log_196111_6b7a0848</td>\n",
              "      <td>__export__.temp_log_196112_e134aebd</td>\n",
              "      <td>__export__.temp_log_196108_4a983c7e</td>\n",
              "      <td>__export__.temp_log_196108_4a983c7e</td>\n",
              "      <td>__export__.temp_log_196101_d5ec7633</td>\n",
              "      <td>__export__.temp_log_196099_3b8ef67b</td>\n",
              "      <td>__export__.temp_log_196095_788b2c27</td>\n",
              "    </tr>\n",
              "    <tr>\n",
              "      <th>room_id/id</th>\n",
              "      <td>Room Admin</td>\n",
              "      <td>Room Admin</td>\n",
              "      <td>Room Admin</td>\n",
              "      <td>Room Admin</td>\n",
              "      <td>Room Admin</td>\n",
              "      <td>Room Admin</td>\n",
              "      <td>Room Admin</td>\n",
              "      <td>Room Admin</td>\n",
              "      <td>Room Admin</td>\n",
              "      <td>Room Admin</td>\n",
              "      <td>Room Admin</td>\n",
              "      <td>Room Admin</td>\n",
              "      <td>Room Admin</td>\n",
              "      <td>Room Admin</td>\n",
              "      <td>Room Admin</td>\n",
              "    </tr>\n",
              "    <tr>\n",
              "      <th>noted_date</th>\n",
              "      <td>08-12-2018 09:30</td>\n",
              "      <td>08-12-2018 09:30</td>\n",
              "      <td>08-12-2018 09:29</td>\n",
              "      <td>08-12-2018 09:29</td>\n",
              "      <td>08-12-2018 09:29</td>\n",
              "      <td>08-12-2018 09:29</td>\n",
              "      <td>08-12-2018 09:28</td>\n",
              "      <td>08-12-2018 09:28</td>\n",
              "      <td>08-12-2018 09:26</td>\n",
              "      <td>08-12-2018 09:26</td>\n",
              "      <td>08-12-2018 09:25</td>\n",
              "      <td>08-12-2018 09:25</td>\n",
              "      <td>08-12-2018 09:24</td>\n",
              "      <td>08-12-2018 09:24</td>\n",
              "      <td>08-12-2018 09:22</td>\n",
              "    </tr>\n",
              "    <tr>\n",
              "      <th>temp</th>\n",
              "      <td>29</td>\n",
              "      <td>29</td>\n",
              "      <td>41</td>\n",
              "      <td>41</td>\n",
              "      <td>31</td>\n",
              "      <td>31</td>\n",
              "      <td>29</td>\n",
              "      <td>29</td>\n",
              "      <td>29</td>\n",
              "      <td>29</td>\n",
              "      <td>42</td>\n",
              "      <td>42</td>\n",
              "      <td>29</td>\n",
              "      <td>29</td>\n",
              "      <td>29</td>\n",
              "    </tr>\n",
              "    <tr>\n",
              "      <th>out/in</th>\n",
              "      <td>In</td>\n",
              "      <td>In</td>\n",
              "      <td>Out</td>\n",
              "      <td>Out</td>\n",
              "      <td>In</td>\n",
              "      <td>In</td>\n",
              "      <td>In</td>\n",
              "      <td>In</td>\n",
              "      <td>In</td>\n",
              "      <td>In</td>\n",
              "      <td>Out</td>\n",
              "      <td>Out</td>\n",
              "      <td>In</td>\n",
              "      <td>In</td>\n",
              "      <td>In</td>\n",
              "    </tr>\n",
              "  </tbody>\n",
              "</table>\n",
              "</div>\n",
              "      <button class=\"colab-df-convert\" onclick=\"convertToInteractive('df-b7e35319-a9a0-49db-888c-e2f520431b38')\"\n",
              "              title=\"Convert this dataframe to an interactive table.\"\n",
              "              style=\"display:none;\">\n",
              "        \n",
              "  <svg xmlns=\"http://www.w3.org/2000/svg\" height=\"24px\"viewBox=\"0 0 24 24\"\n",
              "       width=\"24px\">\n",
              "    <path d=\"M0 0h24v24H0V0z\" fill=\"none\"/>\n",
              "    <path d=\"M18.56 5.44l.94 2.06.94-2.06 2.06-.94-2.06-.94-.94-2.06-.94 2.06-2.06.94zm-11 1L8.5 8.5l.94-2.06 2.06-.94-2.06-.94L8.5 2.5l-.94 2.06-2.06.94zm10 10l.94 2.06.94-2.06 2.06-.94-2.06-.94-.94-2.06-.94 2.06-2.06.94z\"/><path d=\"M17.41 7.96l-1.37-1.37c-.4-.4-.92-.59-1.43-.59-.52 0-1.04.2-1.43.59L10.3 9.45l-7.72 7.72c-.78.78-.78 2.05 0 2.83L4 21.41c.39.39.9.59 1.41.59.51 0 1.02-.2 1.41-.59l7.78-7.78 2.81-2.81c.8-.78.8-2.07 0-2.86zM5.41 20L4 18.59l7.72-7.72 1.47 1.35L5.41 20z\"/>\n",
              "  </svg>\n",
              "      </button>\n",
              "      \n",
              "  <style>\n",
              "    .colab-df-container {\n",
              "      display:flex;\n",
              "      flex-wrap:wrap;\n",
              "      gap: 12px;\n",
              "    }\n",
              "\n",
              "    .colab-df-convert {\n",
              "      background-color: #E8F0FE;\n",
              "      border: none;\n",
              "      border-radius: 50%;\n",
              "      cursor: pointer;\n",
              "      display: none;\n",
              "      fill: #1967D2;\n",
              "      height: 32px;\n",
              "      padding: 0 0 0 0;\n",
              "      width: 32px;\n",
              "    }\n",
              "\n",
              "    .colab-df-convert:hover {\n",
              "      background-color: #E2EBFA;\n",
              "      box-shadow: 0px 1px 2px rgba(60, 64, 67, 0.3), 0px 1px 3px 1px rgba(60, 64, 67, 0.15);\n",
              "      fill: #174EA6;\n",
              "    }\n",
              "\n",
              "    [theme=dark] .colab-df-convert {\n",
              "      background-color: #3B4455;\n",
              "      fill: #D2E3FC;\n",
              "    }\n",
              "\n",
              "    [theme=dark] .colab-df-convert:hover {\n",
              "      background-color: #434B5C;\n",
              "      box-shadow: 0px 1px 3px 1px rgba(0, 0, 0, 0.15);\n",
              "      filter: drop-shadow(0px 1px 2px rgba(0, 0, 0, 0.3));\n",
              "      fill: #FFFFFF;\n",
              "    }\n",
              "  </style>\n",
              "\n",
              "      <script>\n",
              "        const buttonEl =\n",
              "          document.querySelector('#df-b7e35319-a9a0-49db-888c-e2f520431b38 button.colab-df-convert');\n",
              "        buttonEl.style.display =\n",
              "          google.colab.kernel.accessAllowed ? 'block' : 'none';\n",
              "\n",
              "        async function convertToInteractive(key) {\n",
              "          const element = document.querySelector('#df-b7e35319-a9a0-49db-888c-e2f520431b38');\n",
              "          const dataTable =\n",
              "            await google.colab.kernel.invokeFunction('convertToInteractive',\n",
              "                                                     [key], {});\n",
              "          if (!dataTable) return;\n",
              "\n",
              "          const docLinkHtml = 'Like what you see? Visit the ' +\n",
              "            '<a target=\"_blank\" href=https://colab.research.google.com/notebooks/data_table.ipynb>data table notebook</a>'\n",
              "            + ' to learn more about interactive tables.';\n",
              "          element.innerHTML = '';\n",
              "          dataTable['output_type'] = 'display_data';\n",
              "          await google.colab.output.renderOutput(dataTable, element);\n",
              "          const docLink = document.createElement('div');\n",
              "          docLink.innerHTML = docLinkHtml;\n",
              "          element.appendChild(docLink);\n",
              "        }\n",
              "      </script>\n",
              "    </div>\n",
              "  </div>\n",
              "  "
            ],
            "text/plain": [
              "                                             0   ...                                   14\n",
              "id          __export__.temp_log_196134_bd201015  ...  __export__.temp_log_196095_788b2c27\n",
              "room_id/id                           Room Admin  ...                           Room Admin\n",
              "noted_date                     08-12-2018 09:30  ...                     08-12-2018 09:22\n",
              "temp                                         29  ...                                   29\n",
              "out/in                                       In  ...                                   In\n",
              "\n",
              "[5 rows x 15 columns]"
            ]
          },
          "metadata": {},
          "execution_count": 1
        }
      ],
      "source": [
        "import pandas as pa\n",
        "\n",
        "df = pa.read_csv('https://raw.githubusercontent.com/nurfnick/Data_Viz/main/IOT-temp.csv')\n",
        "\n",
        "df.head(15).T"
      ]
    },
    {
      "cell_type": "code",
      "source": [
        "pa.to_datetime(df.noted_date, format='%d-%m-%Y %H:%M')"
      ],
      "metadata": {
        "colab": {
          "base_uri": "https://localhost:8080/"
        },
        "id": "ySn4gMOIzXNV",
        "outputId": "a165c0c2-44f3-489d-9b00-d0371b4ad2fc"
      },
      "execution_count": 2,
      "outputs": [
        {
          "output_type": "execute_result",
          "data": {
            "text/plain": [
              "0       2018-12-08 09:30:00\n",
              "1       2018-12-08 09:30:00\n",
              "2       2018-12-08 09:29:00\n",
              "3       2018-12-08 09:29:00\n",
              "4       2018-12-08 09:29:00\n",
              "                ...        \n",
              "97601   2018-07-28 07:07:00\n",
              "97602   2018-07-28 07:07:00\n",
              "97603   2018-07-28 07:06:00\n",
              "97604   2018-07-28 07:06:00\n",
              "97605   2018-07-28 07:06:00\n",
              "Name: noted_date, Length: 97606, dtype: datetime64[ns]"
            ]
          },
          "metadata": {},
          "execution_count": 2
        }
      ]
    },
    {
      "cell_type": "code",
      "source": [
        "df.noted_date = pa.to_datetime(df.noted_date, format='%d-%m-%Y %H:%M')"
      ],
      "metadata": {
        "id": "8yaCjFhrzbIt"
      },
      "execution_count": 3,
      "outputs": []
    },
    {
      "cell_type": "code",
      "source": [
        "df.temp.describe()"
      ],
      "metadata": {
        "colab": {
          "base_uri": "https://localhost:8080/"
        },
        "id": "LbdMqvE1zg5I",
        "outputId": "1b5580ff-a696-4c89-f2ad-a9c799984f70"
      },
      "execution_count": 4,
      "outputs": [
        {
          "output_type": "execute_result",
          "data": {
            "text/plain": [
              "count    97606.000000\n",
              "mean        35.053931\n",
              "std          5.699825\n",
              "min         21.000000\n",
              "25%         30.000000\n",
              "50%         35.000000\n",
              "75%         40.000000\n",
              "max         51.000000\n",
              "Name: temp, dtype: float64"
            ]
          },
          "metadata": {},
          "execution_count": 4
        }
      ]
    },
    {
      "cell_type": "code",
      "source": [
        "df.noted_date.dt.day.mean "
      ],
      "metadata": {
        "colab": {
          "base_uri": "https://localhost:8080/"
        },
        "id": "O-tOxbWLzirK",
        "outputId": "1d948516-30af-4bf9-a9bc-05ad2a7cb251"
      },
      "execution_count": 5,
      "outputs": [
        {
          "output_type": "execute_result",
          "data": {
            "text/plain": [
              "<bound method NDFrame._add_numeric_operations.<locals>.mean of 0         8\n",
              "1         8\n",
              "2         8\n",
              "3         8\n",
              "4         8\n",
              "         ..\n",
              "97601    28\n",
              "97602    28\n",
              "97603    28\n",
              "97604    28\n",
              "97605    28\n",
              "Name: noted_date, Length: 97606, dtype: int64>"
            ]
          },
          "metadata": {},
          "execution_count": 5
        }
      ]
    },
    {
      "cell_type": "code",
      "source": [
        "import numpy as np\n",
        "\n",
        "df.noted_date = pa.to_datetime(df.noted_date).values.astype(np.int64)\n",
        "df.noted_date.mean()\n",
        "pa.to_datetime(df.groupby('noted_date').mean())"
      ],
      "metadata": {
        "id": "D7xrzHAR0FaO"
      },
      "execution_count": null,
      "outputs": []
    }
  ]
}