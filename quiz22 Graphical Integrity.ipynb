{
  "nbformat": 4,
  "nbformat_minor": 0,
  "metadata": {
    "colab": {
      "name": "Untitled15.ipynb",
      "provenance": [],
      "authorship_tag": "ABX9TyMKem7lf2mMCFwIfNZRUtfJ",
      "include_colab_link": true
    },
    "kernelspec": {
      "name": "python3",
      "display_name": "Python 3"
    },
    "language_info": {
      "name": "python"
    }
  },
  "cells": [
    {
      "cell_type": "markdown",
      "metadata": {
        "id": "view-in-github",
        "colab_type": "text"
      },
      "source": [
        "<a href=\"https://colab.research.google.com/github/SagarSitaula1/Data-Visual/blob/main/quiz22%20Graphical%20Integrity.ipynb\" target=\"_parent\"><img src=\"https://colab.research.google.com/assets/colab-badge.svg\" alt=\"Open In Colab\"/></a>"
      ]
    },
    {
      "cell_type": "markdown",
      "source": [
        "## GRAPHICAL INTEGRITY"
      ],
      "metadata": {
        "id": "bIcAeTnjYDlj"
      }
    },
    {
      "cell_type": "markdown",
      "source": [
        "[white tailed deer](https://symposium.foragerone.com/2022-posters-at-st-paul/presentations/36710)\n",
        "\n",
        "In this case I believe that the visual represents the topic. It portraits necessary information in the visual. I like how the things are layout first on the left corner I can see the introduction and the objectives.The main objective is to restore the wetlands by understanding the behavoiur of the deer.I like how the map is shown of the wetlands.It also includes graph and numerical data to support the claims."
      ],
      "metadata": {
        "id": "XvQvbEQPYLTo"
      }
    },
    {
      "cell_type": "markdown",
      "source": [
        "[Adverse Childhood Experiences](https://symposium.foragerone.com/csu-murals-2022/presentations/38483)\n",
        "\n",
        "I really like this presentation the visual on this topic is very interesting and vast. There  are a lot of thing going on the background. I  like how they have visuals explaining different types of ACEs.It also includes stats. the chart also shows rates of four states in comparision to the national average and their state lows and highs in relation to reported ACEs. I think the graph supports all the purpose of the project.\n",
        "\n"
      ],
      "metadata": {
        "id": "XHHFNjaEYxRu"
      }
    },
    {
      "cell_type": "markdown",
      "source": [
        "[Self Driving Car](https://symposium.foragerone.com/okrd22/presentations/37422)\n",
        "\n",
        "In this situation, I believe the image accurately depicts the subject. It depicts important information in a visual style. One of the visuals is a computer model, while another is a real-life visual, and together with the topic, we can claim that it matches what the article is trying to express to some extent. It has a label and an automobile that appears to be driving on a highway. It also goes into greater detail about what it can do in the graph, which is nice. Although the graphic is not particularly attractive, it offers the necessary information that the viewer will anticipate."
      ],
      "metadata": {
        "id": "KLFiTxNKf3e8"
      }
    }
  ]
}