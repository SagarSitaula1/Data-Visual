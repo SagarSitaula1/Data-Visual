{
  "nbformat": 4,
  "nbformat_minor": 0,
  "metadata": {
    "colab": {
      "name": "Untitled13.ipynb",
      "provenance": [],
      "authorship_tag": "ABX9TyMMoA0uSNkAO5Lnjwy6gC3G",
      "include_colab_link": true
    },
    "kernelspec": {
      "name": "python3",
      "display_name": "Python 3"
    },
    "language_info": {
      "name": "python"
    }
  },
  "cells": [
    {
      "cell_type": "markdown",
      "metadata": {
        "id": "view-in-github",
        "colab_type": "text"
      },
      "source": [
        "<a href=\"https://colab.research.google.com/github/SagarSitaula1/Data-Visual/blob/main/quiz21.ipynb\" target=\"_parent\"><img src=\"https://colab.research.google.com/assets/colab-badge.svg\" alt=\"Open In Colab\"/></a>"
      ]
    },
    {
      "cell_type": "markdown",
      "source": [
        "![john Snow](https://upload.wikimedia.org/wikipedia/commons/2/27/Snow-cholera-map-1.jpg)"
      ],
      "metadata": {
        "id": "vlvRFtADg7nV"
      }
    },
    {
      "cell_type": "markdown",
      "source": [
        "reference\n",
        "\n",
        "\n",
        "https://www.theguardian.com/news/datablog/2013/mar/15/john-snow-cholera-map"
      ],
      "metadata": {
        "id": "nkV7-aJVhZoI"
      }
    },
    {
      "cell_type": "markdown",
      "source": [
        "Above is the map drawn by john snow to learn about the cholera outbreak. As seen in the map the darker spot are where the outbreak is at maximum.now identified the source of the outbreak as the contaminated public water pump on Broad Street (nowBroadwick Street). He did this by mapping the deaths from cholera, and noted that they were mostly people whose nearest access to water was the Broad Street pump."
      ],
      "metadata": {
        "id": "z8joRxtBhZqJ"
      }
    }
  ]
}